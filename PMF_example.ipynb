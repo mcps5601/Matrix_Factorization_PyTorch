{
 "cells": [
  {
   "cell_type": "markdown",
   "id": "8e203645",
   "metadata": {},
   "source": [
    "## Dataset source\n",
    "https://www.kaggle.com/gspmoreira/articles-sharing-reading-from-cit-deskdrop"
   ]
  },
  {
   "cell_type": "code",
   "execution_count": 6,
   "id": "4c792bd9",
   "metadata": {
    "scrolled": false
   },
   "outputs": [],
   "source": [
    "import torch\n",
    "import torch.nn as nn\n",
    "import torch.nn.functional as F\n",
    "import pandas as pd\n",
    "import math\n",
    "from sklearn.model_selection import train_test_split\n",
    "from tqdm import tqdm\n",
    "\n",
    "# Import from my module.\n",
    "from utils import smooth_user_preference, cat_to_id_transform"
   ]
  },
  {
   "cell_type": "code",
   "execution_count": 7,
   "id": "c2934308",
   "metadata": {},
   "outputs": [],
   "source": [
    "# Load data\n",
    "interactions_df = pd.read_csv('data/users_interactions.csv')\n",
    "\n",
    "# Process interactions_df\n",
    "event_type_strength = {\n",
    "   'VIEW': 1.0,\n",
    "   'LIKE': 2.0, \n",
    "   'BOOKMARK': 2.5, \n",
    "   'FOLLOW': 3.0,\n",
    "   'COMMENT CREATED': 4.0,  \n",
    "}\n",
    "interactions_df['eventStrength'] = interactions_df['eventType'].apply(lambda x: event_type_strength[x])"
   ]
  },
  {
   "cell_type": "code",
   "execution_count": 8,
   "id": "0d82594d",
   "metadata": {},
   "outputs": [
    {
     "data": {
      "text/html": [
       "<div>\n",
       "<style scoped>\n",
       "    .dataframe tbody tr th:only-of-type {\n",
       "        vertical-align: middle;\n",
       "    }\n",
       "\n",
       "    .dataframe tbody tr th {\n",
       "        vertical-align: top;\n",
       "    }\n",
       "\n",
       "    .dataframe thead th {\n",
       "        text-align: right;\n",
       "    }\n",
       "</style>\n",
       "<table border=\"1\" class=\"dataframe\">\n",
       "  <thead>\n",
       "    <tr style=\"text-align: right;\">\n",
       "      <th></th>\n",
       "      <th>timestamp</th>\n",
       "      <th>eventType</th>\n",
       "      <th>contentId</th>\n",
       "      <th>personId</th>\n",
       "      <th>sessionId</th>\n",
       "      <th>userAgent</th>\n",
       "      <th>userRegion</th>\n",
       "      <th>userCountry</th>\n",
       "      <th>eventStrength</th>\n",
       "    </tr>\n",
       "  </thead>\n",
       "  <tbody>\n",
       "    <tr>\n",
       "      <th>0</th>\n",
       "      <td>1465413032</td>\n",
       "      <td>VIEW</td>\n",
       "      <td>-3499919498720038879</td>\n",
       "      <td>-8845298781299428018</td>\n",
       "      <td>1264196770339959068</td>\n",
       "      <td>NaN</td>\n",
       "      <td>NaN</td>\n",
       "      <td>NaN</td>\n",
       "      <td>1.0</td>\n",
       "    </tr>\n",
       "    <tr>\n",
       "      <th>1</th>\n",
       "      <td>1465412560</td>\n",
       "      <td>VIEW</td>\n",
       "      <td>8890720798209849691</td>\n",
       "      <td>-1032019229384696495</td>\n",
       "      <td>3621737643587579081</td>\n",
       "      <td>Mozilla/5.0 (Macintosh; Intel Mac OS X 10_11_2...</td>\n",
       "      <td>NY</td>\n",
       "      <td>US</td>\n",
       "      <td>1.0</td>\n",
       "    </tr>\n",
       "    <tr>\n",
       "      <th>2</th>\n",
       "      <td>1465416190</td>\n",
       "      <td>VIEW</td>\n",
       "      <td>310515487419366995</td>\n",
       "      <td>-1130272294246983140</td>\n",
       "      <td>2631864456530402479</td>\n",
       "      <td>NaN</td>\n",
       "      <td>NaN</td>\n",
       "      <td>NaN</td>\n",
       "      <td>1.0</td>\n",
       "    </tr>\n",
       "    <tr>\n",
       "      <th>3</th>\n",
       "      <td>1465413895</td>\n",
       "      <td>FOLLOW</td>\n",
       "      <td>310515487419366995</td>\n",
       "      <td>344280948527967603</td>\n",
       "      <td>-3167637573980064150</td>\n",
       "      <td>NaN</td>\n",
       "      <td>NaN</td>\n",
       "      <td>NaN</td>\n",
       "      <td>3.0</td>\n",
       "    </tr>\n",
       "    <tr>\n",
       "      <th>4</th>\n",
       "      <td>1465412290</td>\n",
       "      <td>VIEW</td>\n",
       "      <td>-7820640624231356730</td>\n",
       "      <td>-445337111692715325</td>\n",
       "      <td>5611481178424124714</td>\n",
       "      <td>NaN</td>\n",
       "      <td>NaN</td>\n",
       "      <td>NaN</td>\n",
       "      <td>1.0</td>\n",
       "    </tr>\n",
       "  </tbody>\n",
       "</table>\n",
       "</div>"
      ],
      "text/plain": [
       "    timestamp eventType            contentId             personId  \\\n",
       "0  1465413032      VIEW -3499919498720038879 -8845298781299428018   \n",
       "1  1465412560      VIEW  8890720798209849691 -1032019229384696495   \n",
       "2  1465416190      VIEW   310515487419366995 -1130272294246983140   \n",
       "3  1465413895    FOLLOW   310515487419366995   344280948527967603   \n",
       "4  1465412290      VIEW -7820640624231356730  -445337111692715325   \n",
       "\n",
       "             sessionId                                          userAgent  \\\n",
       "0  1264196770339959068                                                NaN   \n",
       "1  3621737643587579081  Mozilla/5.0 (Macintosh; Intel Mac OS X 10_11_2...   \n",
       "2  2631864456530402479                                                NaN   \n",
       "3 -3167637573980064150                                                NaN   \n",
       "4  5611481178424124714                                                NaN   \n",
       "\n",
       "  userRegion userCountry  eventStrength  \n",
       "0        NaN         NaN            1.0  \n",
       "1         NY          US            1.0  \n",
       "2        NaN         NaN            1.0  \n",
       "3        NaN         NaN            3.0  \n",
       "4        NaN         NaN            1.0  "
      ]
     },
     "execution_count": 8,
     "metadata": {},
     "output_type": "execute_result"
    }
   ],
   "source": [
    "interactions_df.head(5)"
   ]
  },
  {
   "cell_type": "code",
   "execution_count": 9,
   "id": "a749c25d",
   "metadata": {},
   "outputs": [],
   "source": [
    "# Set column name mappings.\n",
    "USER_KEY = \"personId\"\n",
    "ITEM_KEY = \"contentId\"\n",
    "RATE_KEY = \"eventStrength\""
   ]
  },
  {
   "cell_type": "code",
   "execution_count": 10,
   "id": "2a10f029",
   "metadata": {},
   "outputs": [
    {
     "name": "stdout",
     "output_type": "stream",
     "text": [
      "# users: 1895\n"
     ]
    }
   ],
   "source": [
    "tmp = interactions_df.groupby([USER_KEY, ITEM_KEY]).size()\n",
    "users_interactions_count_df = tmp.groupby(USER_KEY).size()\n",
    "\n",
    "print('# users: %d' % len(users_interactions_count_df))"
   ]
  },
  {
   "cell_type": "code",
   "execution_count": 11,
   "id": "fc6be243",
   "metadata": {},
   "outputs": [
    {
     "name": "stdout",
     "output_type": "stream",
     "text": [
      "# users with at least 5 interactions: 1140\n"
     ]
    }
   ],
   "source": [
    "users_with_enough_interactions_df = users_interactions_count_df[users_interactions_count_df >= 5]\n",
    "users_with_enough_interactions_df = users_with_enough_interactions_df.reset_index()[[USER_KEY]]\n",
    "\n",
    "print('# users with at least 5 interactions: %d' % len(users_with_enough_interactions_df))"
   ]
  },
  {
   "cell_type": "code",
   "execution_count": 12,
   "id": "9fe53766",
   "metadata": {},
   "outputs": [
    {
     "name": "stdout",
     "output_type": "stream",
     "text": [
      "# of interactions from users with at least 5 interactions: 69868\n"
     ]
    }
   ],
   "source": [
    "interactions_from_selected_users_df = interactions_df.merge(\n",
    "    users_with_enough_interactions_df, \n",
    "    how = 'right',\n",
    "    left_on = USER_KEY,\n",
    "    right_on = USER_KEY,\n",
    ")\n",
    "print('# of interactions from users with at least 5 interactions: %d' % len(interactions_from_selected_users_df))"
   ]
  },
  {
   "cell_type": "code",
   "execution_count": 13,
   "id": "485850c0",
   "metadata": {},
   "outputs": [
    {
     "name": "stdout",
     "output_type": "stream",
     "text": [
      "# of unique user/item interactions: 39106\n"
     ]
    }
   ],
   "source": [
    "interactions_full_df = interactions_from_selected_users_df \\\n",
    "                    .groupby([USER_KEY, ITEM_KEY])[RATE_KEY].sum() \\\n",
    "                    .apply(smooth_user_preference).reset_index()\n",
    "\n",
    "print('# of unique user/item interactions: %d' % len(interactions_full_df))"
   ]
  },
  {
   "cell_type": "code",
   "execution_count": 14,
   "id": "d9b44729",
   "metadata": {},
   "outputs": [],
   "source": [
    "# Transform all ids to categories\n",
    "u2idx, u_cat = cat_to_id_transform(interactions_full_df[USER_KEY])\n",
    "i2idx, i_cat = cat_to_id_transform(interactions_full_df[ITEM_KEY])\n",
    "interactions_full_df[USER_KEY] = u_cat\n",
    "interactions_full_df[ITEM_KEY] = i_cat"
   ]
  },
  {
   "cell_type": "code",
   "execution_count": 146,
   "id": "d088310c",
   "metadata": {},
   "outputs": [
    {
     "name": "stdout",
     "output_type": "stream",
     "text": [
      "# interactions on Train set: 27374\n",
      "# interactions on Test set: 11732\n"
     ]
    }
   ],
   "source": [
    "interactions_train_df, interactions_test_df = train_test_split(\n",
    "    interactions_full_df,\n",
    "    stratify=interactions_full_df['personId'], \n",
    "    test_size=0.3,\n",
    "    random_state=42\n",
    ")\n",
    "\n",
    "print('# interactions on Train set: %d' % len(interactions_train_df))\n",
    "print('# interactions on Test set: %d' % len(interactions_test_df))"
   ]
  },
  {
   "cell_type": "code",
   "execution_count": 147,
   "id": "3c6e7e50",
   "metadata": {},
   "outputs": [],
   "source": [
    "class MF(nn.Module):\n",
    "    def __init__(self, num_users, num_items, emb_size, lam_u, lam_v):\n",
    "        super(MF, self).__init__()\n",
    "        self.user_emb = nn.Embedding(num_users, emb_size)\n",
    "        self.item_emb = nn.Embedding(num_items, emb_size)\n",
    "\n",
    "        # initializing our matrices with normal distribution\n",
    "        nn.init.normal_(self.user_emb.weight)\n",
    "        self.user_emb.weight.mul(0.1)\n",
    "        nn.init.normal_(self.item_emb.weight)\n",
    "        self.item_emb.weight.mul(0.1)\n",
    "        \n",
    "        self.lam_u = lam_u\n",
    "        self.lam_v = lam_v\n",
    "\n",
    "\n",
    "    def forward(self, u, v):\n",
    "        u = self.user_emb(u)\n",
    "        v = self.item_emb(v)\n",
    "        output = (u*v).sum(1)     # taking the dot product\n",
    "        \n",
    "        # Perform Frobenius norm (but without sqrt)\n",
    "        u_reg = self.lam_u * torch.sum(u**2)\n",
    "        v_reg = self.lam_v * torch.sum(v**2)\n",
    "\n",
    "        return output, u_reg, v_reg"
   ]
  },
  {
   "cell_type": "code",
   "execution_count": 152,
   "id": "2a2a3d07",
   "metadata": {},
   "outputs": [
    {
     "name": "stdout",
     "output_type": "stream",
     "text": [
      "27374\n",
      "27374\n"
     ]
    }
   ],
   "source": [
    "num_users = len(interactions_train_df[USER_KEY])\n",
    "num_items = len(interactions_train_df[ITEM_KEY])\n",
    "print(num_users)\n",
    "print(num_items)\n",
    "model = MF(num_users, num_items, emb_size=10, lam_u=0.01, lam_v=0.01)\n",
    "\n",
    "# train_df, valid_df = train_test_split(dataset, test_size=0.2)\n",
    "# resetting indices to avoid indexing errors\n",
    "train_df = interactions_train_df.reset_index(drop=True)\n",
    "test_df = interactions_test_df.reset_index(drop=True)"
   ]
  },
  {
   "cell_type": "code",
   "execution_count": 153,
   "id": "2419217c",
   "metadata": {},
   "outputs": [],
   "source": [
    "device = torch.device('cuda' if torch.cuda.is_available() else 'cpu')"
   ]
  },
  {
   "cell_type": "code",
   "execution_count": 154,
   "id": "fd17ea35",
   "metadata": {},
   "outputs": [],
   "source": [
    "def train_epocs(model, epochs=150000, lr=0.01, wd=0.0):\n",
    "    optimizer = torch.optim.Adam(model.parameters(), lr=lr, weight_decay=wd)\n",
    "#     optimizer = torch.optim.SGD(model.parameters(), lr=lr, momentum=0.8)\n",
    "    model = model.to(device)\n",
    "    model.train()\n",
    "    for epoch in tqdm(range(epochs)):\n",
    "        optimizer.zero_grad()\n",
    "        \n",
    "        user_tensor = torch.LongTensor(train_df[USER_KEY].values).to(device)\n",
    "        item_tensor = torch.LongTensor(train_df[ITEM_KEY].values).to(device)\n",
    "        ratings = torch.FloatTensor(train_df[RATE_KEY].values).to(device)\n",
    "        # print(torch.max(item_tensor))\n",
    "        # print(torch.min(item_tensor))\n",
    "        \n",
    "        y_hat, u_reg, v_reg = model(user_tensor, item_tensor)\n",
    "        \n",
    "        loss = F.mse_loss(y_hat, ratings) + u_reg + v_reg\n",
    "        if epoch % 10000 == 0:\n",
    "            print(f\"Epoch: {epoch}, Loss: {loss}\")\n",
    "\n",
    "        loss.backward()\n",
    "        optimizer.step()\n",
    "        \n",
    "\n",
    "def test(model):\n",
    "    model.eval()\n",
    "    user_tensor = torch.LongTensor(test_df[USER_KEY].values).to(device)\n",
    "    item_tensor = torch.LongTensor(test_df[ITEM_KEY].values).to(device)\n",
    "    ratings = torch.FloatTensor(test_df[RATE_KEY].values).to(device)\n",
    "    y_hat, _, _ = model(user_tensor, item_tensor)\n",
    "    loss = F.mse_loss(y_hat, ratings)\n",
    "    print(\"test loss %.3f \" % loss.item())"
   ]
  },
  {
   "cell_type": "code",
   "execution_count": 155,
   "id": "a845b998",
   "metadata": {},
   "outputs": [
    {
     "name": "stderr",
     "output_type": "stream",
     "text": [
      "  0%|▍                                                                                                                          | 115/30000 [00:00<00:52, 572.32it/s]"
     ]
    },
    {
     "name": "stdout",
     "output_type": "stream",
     "text": [
      "Epoch: 0, Loss: 5500.333984375\n"
     ]
    },
    {
     "name": "stderr",
     "output_type": "stream",
     "text": [
      " 34%|████████████████████████████████████████▋                                                                                | 10077/30000 [00:15<00:30, 648.61it/s]"
     ]
    },
    {
     "name": "stdout",
     "output_type": "stream",
     "text": [
      "Epoch: 10000, Loss: 2.617297887802124\n"
     ]
    },
    {
     "name": "stderr",
     "output_type": "stream",
     "text": [
      " 67%|████████████████████████████████████████████████████████████████████████████████▉                                        | 20075/30000 [00:31<00:16, 615.03it/s]"
     ]
    },
    {
     "name": "stdout",
     "output_type": "stream",
     "text": [
      "Epoch: 20000, Loss: 2.6176130771636963\n"
     ]
    },
    {
     "name": "stderr",
     "output_type": "stream",
     "text": [
      "100%|█████████████████████████████████████████████████████████████████████████████████████████████████████████████████████████| 30000/30000 [00:46<00:00, 644.72it/s]\n"
     ]
    }
   ],
   "source": [
    "# Start training\n",
    "train_epocs(model, epochs=30000)"
   ]
  },
  {
   "cell_type": "code",
   "execution_count": 156,
   "id": "36b9b2aa",
   "metadata": {},
   "outputs": [
    {
     "name": "stdout",
     "output_type": "stream",
     "text": [
      "test loss 2.615 \n"
     ]
    }
   ],
   "source": [
    "# Start testing\n",
    "test(model)"
   ]
  },
  {
   "cell_type": "code",
   "execution_count": null,
   "id": "f80b405a",
   "metadata": {},
   "outputs": [],
   "source": []
  }
 ],
 "metadata": {
  "kernelspec": {
   "display_name": "Python 3 (ipykernel)",
   "language": "python",
   "name": "python3"
  },
  "language_info": {
   "codemirror_mode": {
    "name": "ipython",
    "version": 3
   },
   "file_extension": ".py",
   "mimetype": "text/x-python",
   "name": "python",
   "nbconvert_exporter": "python",
   "pygments_lexer": "ipython3",
   "version": "3.9.5"
  }
 },
 "nbformat": 4,
 "nbformat_minor": 5
}
